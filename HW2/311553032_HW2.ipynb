{
  "cells": [
    {
      "cell_type": "code",
      "execution_count": null,
      "metadata": {
        "id": "BMH5lm_PrhdD"
      },
      "outputs": [],
      "source": [
        "# Only these three packages are allowed\n",
        "import numpy as np\n",
        "import pandas as pd\n",
        "import matplotlib.pyplot as plt"
      ]
    },
    {
      "cell_type": "code",
      "execution_count": null,
      "metadata": {
        "id": "0FQ7Z945rnF5"
      },
      "outputs": [],
      "source": [
        "class FLD:\n",
        "    def __init__(self):\n",
        "        \"\"\"\n",
        "            You can add/change any variables/methods to meet your need.\n",
        "        \"\"\"\n",
        "        self.mean_vectors = []\n",
        "        self.sw = None\n",
        "        self.sb = None\n",
        "        self.w = None\n",
        "        self.slope = None\n",
        "\n",
        "    def fit(self, X, y):\n",
        "        num_class = len(np.unique(y))\n",
        "\n",
        "\n",
        "        for i in range(num_class) :\n",
        "            self.mean_vectors.append(np.mean(X[y==i], axis=0))\n",
        "  \n",
        "        self.sw = np.zeros((X.shape[1], X.shape[1]))\n",
        "        for i in range(num_class):\n",
        "            Xi = X[y==i]\n",
        "            Si = np.zeros((X.shape[1], X.shape[1]))\n",
        "            for row in Xi:\n",
        "                row, mv = row.reshape(X.shape[1], 1), self.mean_vectors[i].reshape(X.shape[1], 1)\n",
        "                Si += (row-mv).dot((row-mv).T)\n",
        "            self.sw += Si\n",
        "\n",
        "        overall_mean = np.mean(X, axis=0)\n",
        "        overall_mean = overall_mean.reshape(X.shape[1], 1)\n",
        "        self.sb = np.zeros((X.shape[1], X.shape[1]))\n",
        "        \n",
        "        for i in range(num_class):\n",
        "            Ni = len(X[y==i])\n",
        "            mv = self.mean_vectors[i].reshape(X.shape[1], 1)\n",
        "            self.sb += Ni * np.dot((mv - overall_mean),((mv - overall_mean).T))\n",
        "\n",
        "        eigenvalues, eigenvectors = np.linalg.eig(np.linalg.inv(self.sw).dot(self.sb))\n",
        "        # Sort eigenvectors by decreasing eigenvalues\n",
        "        eig_pairs = [(eigenvalues[i], eigenvectors[:,i]) for i in range(len(eigenvalues))]\n",
        "        eig_pairs = sorted(eig_pairs, key=lambda k: k[0], reverse=True)\n",
        "        self.w = eig_pairs[0][1].reshape(X.shape[1],1)\n",
        "\n",
        "        # Compute the slope of the projection line\n",
        "        self.slope = self.w[1]/self.w[0]\n",
        "\n",
        "    def predict_using_class_mean(self, X, y, X_test):\n",
        "        # return y_pred\n",
        "        X_proj = X @ self.w\n",
        "        X_test_proj = X_test @ self.w\n",
        "        y_pred = []\n",
        "        for x in X_test_proj:\n",
        "            distances = [np.linalg.norm(x - np.dot(self.mean_vectors[i], self.w)) for i in range(len(self.mean_vectors))]\n",
        "            y_pred.append(np.argmin(distances))\n",
        "        return np.array(y_pred)\n",
        "    \n",
        "\n",
        "    def predict_using_knn(self, X, y, X_test, k=1):\n",
        "        X_proj = X @ self.w\n",
        "        X_test_proj = X_test @ self.w\n",
        "\n",
        "        y_pred = []\n",
        "        for x in X_test_proj:\n",
        "            distances = [np.linalg.norm(x - X_proj[i] ) for i in range(len(X_proj))]\n",
        "            labels = y[np.argsort(distances)[:k]]\n",
        "            counts = np.bincount(labels)\n",
        "            y_pred.append(np.argmax(counts))\n",
        "\n",
        "        return np.array(y_pred)\n",
        "\n",
        "\n",
        "    def show_confusion_matrix(self, y, y_pred):\n",
        "        confusion_matrix = np.zeros(   (  len(np.unique(y)), len(np.unique(y)) ) )\n",
        "        for i in range(y.shape[0]) :\n",
        "            confusion_matrix[y[i]][y_pred[i]] += 1\n",
        "\n",
        "        plt.imshow(confusion_matrix, cmap=plt.cm.Blues)\n",
        "        plt.colorbar()\n",
        "        tick_marks = np.arange(len(np.unique(y)))\n",
        "        plt.xticks(tick_marks, np.arange(len(np.unique(y))))\n",
        "        plt.yticks(tick_marks, np.arange(len(np.unique(y))))\n",
        "\n",
        "\n",
        "        \n",
        "        thresh = confusion_matrix.max() / 2.\n",
        "        for i, j in np.ndindex(confusion_matrix.shape):\n",
        "            plt.text(j, i, int(confusion_matrix[i, j]),\n",
        "                    horizontalalignment=\"center\",\n",
        "                    color=\"white\" if confusion_matrix[i, j] > thresh else \"black\")\n",
        "        \n",
        "        plt.ylabel('True label')\n",
        "        plt.xlabel('Predicted label')\n",
        "        plt.show()   \n",
        "        pass\n",
        "\n",
        "    def plot_projection(self, X, y):\n",
        "        # fig, ax = plt.subplots(figsize=(31,31))\n",
        "        # plt.xlim(-15, 15)\n",
        "        # plt.ylim(-15, 15)\n",
        "\n",
        "        # draw projection line with intercept = 2\n",
        "        x1 = np.linspace(-15, 5, 50)\n",
        "        y1 = x1 * self.slope\n",
        "\n",
        "        plt.plot(x1, y1)\n",
        "        plt.xlabel('x')\n",
        "        plt.ylabel('y')\n",
        "        plt.title(f'Projection Line: w={self.slope},b=0')\n",
        "\n",
        "        # plot class1 training data \n",
        "        x_c1, y_c1 = X[y == 0][:, 0], X[y == 0][:, 1]\n",
        "        plt.scatter(x_c1, y_c1, color='red', s=1, label='class1')\n",
        "\n",
        "        # plot class1 training data \n",
        "        x_c2, y_c2 = X[y == 1][:, 0], X[y == 1][:, 1]\n",
        "        plt.scatter(x_c2, y_c2, color='blue', s=1, label='class2')\n",
        "\n",
        "        x_c3, y_c3 = X[y == 2][:, 0], X[y == 2][:, 1]\n",
        "        plt.scatter(x_c3, y_c3, color='green', s=1, label='class3')\n",
        "\n",
        "        # project training data\n",
        "        w = np.squeeze(self.w)\n",
        "        for i in range(len(X)):\n",
        "            projection = (np.dot(X[i], w) / np.dot(w, w)) * w\n",
        "            if y[i] == 0:\n",
        "                plt.scatter(projection[0], projection[1], s=10, color='red')\n",
        "                plt.plot([X[i][0], projection[0]], [X[i][1], projection[1]], c='red', alpha=0.05)\n",
        "            elif y[i] == 1:\n",
        "                plt.scatter(projection[0], projection[1], s=10, color='blue')\n",
        "                plt.plot([X[i][0], projection[0]], [X[i][1], projection[1]], c='blue', alpha=0.05)\n",
        "            else  : \n",
        "                plt.scatter(projection[0], projection[1], s=10, color='green')\n",
        "                plt.plot([X[i][0], projection[0]], [X[i][1], projection[1]], c='green', alpha=0.05)\n",
        "\n",
        "    def accuracy_score(self, y, y_pred):\n",
        "        return np.mean(y == y_pred)"
      ]
    },
    {
      "cell_type": "code",
      "execution_count": null,
      "metadata": {
        "id": "fNjwTeUD2UAV"
      },
      "outputs": [],
      "source": [
        "class MultiClassLogisticRegression:\n",
        "    \n",
        "    def __init__(self):\n",
        "        \"\"\"\n",
        "            You can add/change any variables/methods to meet your need.\n",
        "        \"\"\"\n",
        "        self.epoch = []\n",
        "        self.train_loss = []\n",
        "        self.weights = None\n",
        "\n",
        "    def one_hot(self, y ) :\n",
        "        y_hot = np.zeros( ( len(y), len(np.unique(y)) ))\n",
        "        for i in range(len(y)) :\n",
        "            y_hot[i][y[i]] = 1\n",
        "        return y_hot\n",
        "    \n",
        "\n",
        "    def fit(self, X, y, batch_size=16, lr=0.001, epochs=100 , loss_count = 1):\n",
        "        self.weights = np.ones((X.shape[1] + 1, len(np.unique(y))))\n",
        "        self.bais = np.ones( len(np.unique(y))   )\n",
        "        y = y.reshape( (  y.shape[0] , 1) )\n",
        "        X_epoch=np.concatenate((X, np.ones((len(X),1))), axis=1)    \n",
        "\n",
        "        y_hot = self.one_hot( y )\n",
        "        for epoch in range(epochs):\n",
        "            for batch in range(0,len(X),batch_size):\n",
        "                batch_end = min(batch+batch_size , len(X))\n",
        "                X_batch = X_epoch[ batch : batch_end ]\n",
        "                y_batch = y_hot[ batch : batch_end ]\n",
        "                y_pred = X_batch @ self.weights\n",
        "                y_pred = self.softmax(y_pred)\n",
        "                w_grad = (1/batch_size)*np.dot(X_batch.T, (y_pred - y_batch))\n",
        "                self.weights -=  lr * w_grad\n",
        "            if epoch % loss_count == 0 :\n",
        "                y_pred = self.softmax(np.dot(X_epoch, self.weights))           \n",
        "                loss = self.cross_entropy(y, y_pred)\n",
        "                self.train_loss.append(loss)\n",
        "                self.epoch.append(epoch)\n",
        "\n",
        "        print(self.weights)    \n",
        "\n",
        "\n",
        "\n",
        "    def predict(self, X):\n",
        "        X_predict=np.concatenate((X, np.ones((len(X),1))), axis=1)\n",
        "        probs = self.softmax(np.dot(X_predict, self.weights))\n",
        "        pred = np.argmax(probs, axis=1)\n",
        "        return pred\n",
        "\n",
        "    def evaluate(self, X, y):\n",
        "        y_pred = self.predict(X)\n",
        "        accuracy = self.accuracy_score(y, y_pred)\n",
        "        return accuracy\n",
        "\n",
        "\n",
        "    def softmax(self, z):\n",
        "        exp_z = np.exp(z)\n",
        "        for i in range(len(z)):\n",
        "            exp_z[i] /= np.sum(exp_z[i])\n",
        "        return exp_z\n",
        "        \n",
        "\n",
        "    def cross_entropy(self, y, y_hat):\n",
        "        m = y.shape[0]\n",
        "        log_y = [-np.log(y_hat[i][y[i]]) for i in range(len(y))]\n",
        "        loss = np.sum(log_y) / m\n",
        "        return loss\n",
        "    \n",
        "    def accuracy_score(self, y, y_pred):\n",
        "        num = 0\n",
        "        for i in range(len(y)) :\n",
        "            if(y[i]==y_pred[i]) :\n",
        "              num += 1\n",
        "        print(f'ans : {str(num/len(y))}' )\n",
        "        return np.mean(y == y_pred)\n",
        "    \n",
        "\n",
        "\n",
        "\n",
        "    def show_confusion_matrix(self, X, y):\n",
        "        confusion_matrix = np.zeros(   (  len(np.unique(y)), len(np.unique(y)) ) )\n",
        "        y_pred = self.predict(X)\n",
        "        for i in range(y.shape[0]) :\n",
        "            confusion_matrix[y[i]][y_pred[i]] += 1\n",
        "\n",
        "        plt.imshow(confusion_matrix, cmap=plt.cm.Blues)\n",
        "        plt.colorbar()\n",
        "        tick_marks = np.arange(len(np.unique(y)))\n",
        "        plt.xticks(tick_marks, np.arange(len(np.unique(y))))\n",
        "        plt.yticks(tick_marks, np.arange(len(np.unique(y))))\n",
        "\n",
        "\n",
        "        \n",
        "        thresh = confusion_matrix.max() / 2.\n",
        "        for i, j in np.ndindex(confusion_matrix.shape):\n",
        "            plt.text(j, i, int(confusion_matrix[i, j]),\n",
        "                    horizontalalignment=\"center\",\n",
        "                    color=\"white\" if confusion_matrix[i, j] > thresh else \"black\")\n",
        "        \n",
        "        plt.ylabel('True label')\n",
        "        plt.xlabel('Predicted label')\n",
        "        plt.show()    \n",
        "\n",
        "\n",
        "\n",
        "    def plot_curve(self):\n",
        "        # self.epoch and self.train_loss may be helpful here. \n",
        "        plt.plot(self.epoch, self.train_loss, label=\"Training Loss\")\n",
        "        plt.title(\"Training Curve\")\n",
        "        plt.xlabel(\"Epochs\")\n",
        "        plt.ylabel(\"Loss\")\n",
        "        plt.legend()\n",
        "        plt.show()    "
      ]
    },
    {
      "cell_type": "markdown",
      "metadata": {
        "id": "tW-wMhSw8fT8"
      },
      "source": [
        "# Prepare data for Q1 ~ Q12"
      ]
    },
    {
      "cell_type": "code",
      "execution_count": null,
      "metadata": {
        "id": "k43aGfaQ7TsP"
      },
      "outputs": [],
      "source": [
        "df_train = pd.DataFrame(pd.read_csv(\"./PR_HW2_blob_train.csv\"))\n",
        "df_test  = pd.DataFrame(pd.read_csv(\"./PR_HW2_blob_test.csv\"))"
      ]
    },
    {
      "cell_type": "code",
      "execution_count": null,
      "metadata": {
        "id": "2RqHvQCu76Yn",
        "outputId": "ac95e72e-83c3-4889-e689-6aeffd34a580"
      },
      "outputs": [
        {
          "name": "stdout",
          "output_type": "stream",
          "text": [
            "X_train (1000, 2)\n",
            "y_train (1000,)\n",
            "X_test (1000, 2)\n",
            "y_test (1000,)\n"
          ]
        }
      ],
      "source": [
        "X_train = df_train[['Feature1', 'Feature2']].to_numpy()\n",
        "y_train = df_train[['Target']].to_numpy().ravel()\n",
        "\n",
        "X_test = df_test[['Feature1', 'Feature2']].to_numpy()\n",
        "y_test = df_test[['Target']].to_numpy().ravel()\n",
        "\n",
        "print(\"X_train\", X_train.shape)\n",
        "print(\"y_train\", y_train.shape)\n",
        "print(\"X_test\",  X_test.shape)\n",
        "print(\"y_test\",  y_test.shape)"
      ]
    },
    {
      "cell_type": "code",
      "execution_count": null,
      "metadata": {
        "id": "GsfrFmK0GBAQ",
        "outputId": "2ed8f36f-53e2-47eb-ad4e-58f48a541b71"
      },
      "outputs": [
        {
          "data": {
            "text/html": [
              "<div>\n",
              "<style scoped>\n",
              "    .dataframe tbody tr th:only-of-type {\n",
              "        vertical-align: middle;\n",
              "    }\n",
              "\n",
              "    .dataframe tbody tr th {\n",
              "        vertical-align: top;\n",
              "    }\n",
              "\n",
              "    .dataframe thead th {\n",
              "        text-align: right;\n",
              "    }\n",
              "</style>\n",
              "<table border=\"1\" class=\"dataframe\">\n",
              "  <thead>\n",
              "    <tr style=\"text-align: right;\">\n",
              "      <th></th>\n",
              "      <th>Feature1</th>\n",
              "      <th>Feature2</th>\n",
              "      <th>Target</th>\n",
              "    </tr>\n",
              "  </thead>\n",
              "  <tbody>\n",
              "    <tr>\n",
              "      <th>0</th>\n",
              "      <td>-1.607103</td>\n",
              "      <td>7.146919</td>\n",
              "      <td>2</td>\n",
              "    </tr>\n",
              "    <tr>\n",
              "      <th>1</th>\n",
              "      <td>-2.097351</td>\n",
              "      <td>9.010508</td>\n",
              "      <td>2</td>\n",
              "    </tr>\n",
              "    <tr>\n",
              "      <th>2</th>\n",
              "      <td>-11.461453</td>\n",
              "      <td>-5.356925</td>\n",
              "      <td>1</td>\n",
              "    </tr>\n",
              "    <tr>\n",
              "      <th>3</th>\n",
              "      <td>-2.165248</td>\n",
              "      <td>6.744082</td>\n",
              "      <td>2</td>\n",
              "    </tr>\n",
              "    <tr>\n",
              "      <th>4</th>\n",
              "      <td>-1.352848</td>\n",
              "      <td>7.185533</td>\n",
              "      <td>2</td>\n",
              "    </tr>\n",
              "  </tbody>\n",
              "</table>\n",
              "</div>"
            ],
            "text/plain": [
              "    Feature1  Feature2  Target\n",
              "0  -1.607103  7.146919       2\n",
              "1  -2.097351  9.010508       2\n",
              "2 -11.461453 -5.356925       1\n",
              "3  -2.165248  6.744082       2\n",
              "4  -1.352848  7.185533       2"
            ]
          },
          "execution_count": 76,
          "metadata": {},
          "output_type": "execute_result"
        }
      ],
      "source": [
        "df_train.head()\n",
        "df_test.head()"
      ]
    },
    {
      "cell_type": "markdown",
      "metadata": {
        "id": "E_HKrHzE8_Sy"
      },
      "source": [
        "# MultiClass Logistic Regression"
      ]
    },
    {
      "cell_type": "code",
      "execution_count": null,
      "metadata": {
        "id": "xN1uUlEC9FqA",
        "outputId": "494e5059-2fb8-431f-d015-c1bc943158c9"
      },
      "outputs": [
        {
          "name": "stdout",
          "output_type": "stream",
          "text": [
            "[[ 0.60340734 -0.01977367  2.41636633]\n",
            " [ 1.2290092  -0.97770969  2.74870049]\n",
            " [ 3.01373641  0.9910362  -1.00477261]]\n"
          ]
        }
      ],
      "source": [
        "# For Q1\n",
        "lr = 0.1\n",
        "batch_size = 16\n",
        "epoch = 1000\n",
        "\n",
        "logistic_reg = MultiClassLogisticRegression()\n",
        "logistic_reg.fit(X_train, y_train, lr=lr, batch_size=batch_size, epochs=epoch)"
      ]
    },
    {
      "cell_type": "code",
      "execution_count": null,
      "metadata": {
        "id": "R_Y8kIlQ9Jcz",
        "outputId": "dec9f501-a567-4e8e-ce3f-351f6a0ce716"
      },
      "outputs": [
        {
          "name": "stdout",
          "output_type": "stream",
          "text": [
            "ans : 0.896\n",
            "Training acc:  0.896\n"
          ]
        }
      ],
      "source": [
        "# For Q2\n",
        "print('Training acc: ', logistic_reg.evaluate(X_train, y_train))"
      ]
    },
    {
      "cell_type": "code",
      "execution_count": null,
      "metadata": {
        "id": "TzqioRVD9Jgn",
        "outputId": "cd7c1703-95c3-4c44-d870-2ebdcc6f97fa"
      },
      "outputs": [
        {
          "name": "stdout",
          "output_type": "stream",
          "text": [
            "ans : 0.887\n",
            "Testing acc:  0.887\n"
          ]
        }
      ],
      "source": [
        "# For Q3\n",
        "print('Testing acc: ', logistic_reg.evaluate(X_test, y_test))"
      ]
    },
    {
      "cell_type": "code",
      "execution_count": null,
      "metadata": {
        "id": "B_BSVWmM9JkX",
        "outputId": "f7cc2899-5f7e-470d-8e90-1a0d16dabfb9"
      },
      "outputs": [
        {
          "data": {
            "image/png": "[encoded data removed]",
            "text/plain": [
              "<Figure size 640x480 with 1 Axes>"
            ]
          },
          "metadata": {},
          "output_type": "display_data"
        }
      ],
      "source": [
        "# For Q4\n",
        "logistic_reg.plot_curve()"
      ]
    },
    {
      "cell_type": "code",
      "execution_count": null,
      "metadata": {
        "id": "r8tAlAPc9JoP",
        "outputId": "6a3108de-f8fa-433f-bcd9-bbd5850d22cb"
      },
      "outputs": [
        {
          "data": {
            "image/png": "[encoded data removed]",
            "text/plain": [
              "<Figure size 640x480 with 2 Axes>"
            ]
          },
          "metadata": {},
          "output_type": "display_data"
        }
      ],
      "source": [
        "# For Q5\n",
        "logistic_reg.show_confusion_matrix(X_test, y_test)"
      ]
    },
    {
      "cell_type": "markdown",
      "metadata": {
        "id": "njoLZK84-sv3"
      },
      "source": [
        "# Fisher's Linear Discriminant Analysis"
      ]
    },
    {
      "cell_type": "code",
      "execution_count": null,
      "metadata": {
        "id": "i-uhvrbe2mNe"
      },
      "outputs": [],
      "source": [
        "fld = FLD()\n",
        "\n",
        "fld.fit(X_train, y_train)"
      ]
    },
    {
      "cell_type": "code",
      "execution_count": null,
      "metadata": {
        "id": "t95-qsEl2nl_",
        "outputId": "98f45a26-bbfc-4818-8727-1e77d2a85078"
      },
      "outputs": [
        {
          "name": "stdout",
          "output_type": "stream",
          "text": [
            "Class mean vector:  [array([-4.17505764,  6.35526804]), array([-9.43385176, -4.87830741]), array([-2.54454008,  7.53144179])]\n"
          ]
        }
      ],
      "source": [
        "# For Q6\n",
        "print(\"Class mean vector: \", fld.mean_vectors)"
      ]
    },
    {
      "cell_type": "code",
      "execution_count": null,
      "metadata": {
        "id": "czRrdHxV2olM",
        "outputId": "a2c7e99c-bf2f-4fc1-8e93-4aa2636fb31d"
      },
      "outputs": [
        {
          "name": "stdout",
          "output_type": "stream",
          "text": [
            "Within-class scatter matrix SW:  [[1052.70745046  -12.5828441 ]\n",
            " [ -12.5828441   971.29686189]]\n"
          ]
        }
      ],
      "source": [
        "# For Q7\n",
        "print(\"Within-class scatter matrix SW: \", fld.sw)"
      ]
    },
    {
      "cell_type": "code",
      "execution_count": null,
      "metadata": {
        "id": "oETHjp4Y2oqg",
        "outputId": "0b975e9f-b2d8-4ef7-fa64-6521ed1180a2"
      },
      "outputs": [
        {
          "name": "stdout",
          "output_type": "stream",
          "text": [
            "Between-class scatter matrix SB:  [[ 8689.12907035 16344.86572983]\n",
            " [16344.86572983 31372.93949414]]\n"
          ]
        }
      ],
      "source": [
        "# For Q8\n",
        "print(\"Between-class scatter matrix SB: \", fld.sb)"
      ]
    },
    {
      "cell_type": "code",
      "execution_count": null,
      "metadata": {
        "id": "dRytOEMl2otd",
        "outputId": "197490e2-c942-42a5-f7a9-e6faac39eea1"
      },
      "outputs": [
        {
          "name": "stdout",
          "output_type": "stream",
          "text": [
            "W:  [[-0.44115384]\n",
            " [-0.8974315 ]]\n"
          ]
        }
      ],
      "source": [
        "# For Q9\n",
        "print(\"W: \", fld.w)"
      ]
    },
    {
      "cell_type": "code",
      "execution_count": null,
      "metadata": {
        "id": "Q9XMtITV2owM",
        "outputId": "7abe6b46-bad0-4d62-ab5d-d3e22041d948"
      },
      "outputs": [
        {
          "name": "stdout",
          "output_type": "stream",
          "text": [
            "FLD using class mean, accuracy:  0.861\n"
          ]
        },
        {
          "data": {
            "image/png": "[encoded data removed]",
            "text/plain": [
              "<Figure size 640x480 with 2 Axes>"
            ]
          },
          "metadata": {},
          "output_type": "display_data"
        }
      ],
      "source": [
        "# For Q10\n",
        "y_pred = fld.predict_using_class_mean(X_train, y_train, X_test)\n",
        "print(\"FLD using class mean, accuracy: \", fld.accuracy_score(y_test, y_pred))\n",
        "\n",
        "fld.show_confusion_matrix(y_test, y_pred)"
      ]
    },
    {
      "cell_type": "code",
      "execution_count": null,
      "metadata": {
        "id": "7mmAB2BZ2oy5",
        "outputId": "5fc80b19-f18b-4a5f-9d4b-6d6175865bce"
      },
      "outputs": [
        {
          "name": "stdout",
          "output_type": "stream",
          "text": [
            "FLD using knn (k=1), accuracy:  0.822\n",
            "FLD using knn (k=2), accuracy:  0.819\n",
            "FLD using knn (k=3), accuracy:  0.843\n",
            "FLD using knn (k=4), accuracy:  0.84\n",
            "FLD using knn (k=5), accuracy:  0.862\n"
          ]
        }
      ],
      "source": [
        "# For Q11\n",
        "y_pred_k1 = fld.predict_using_knn(X_train, y_train, X_test, k=1)\n",
        "print(\"FLD using knn (k=1), accuracy: \", fld.accuracy_score(y_test, y_pred_k1))\n",
        "\n",
        "y_pred_k2 = fld.predict_using_knn(X_train, y_train, X_test, k=2)\n",
        "print(\"FLD using knn (k=2), accuracy: \", fld.accuracy_score(y_test, y_pred_k2))\n",
        "\n",
        "y_pred_k3 = fld.predict_using_knn(X_train, y_train, X_test, k=3)\n",
        "print(\"FLD using knn (k=3), accuracy: \", fld.accuracy_score(y_test, y_pred_k3))\n",
        "\n",
        "y_pred_k4 = fld.predict_using_knn(X_train, y_train, X_test, k=4)\n",
        "print(\"FLD using knn (k=4), accuracy: \", fld.accuracy_score(y_test, y_pred_k4))\n",
        "\n",
        "y_pred_k5 = fld.predict_using_knn(X_train, y_train, X_test, k=5)\n",
        "print(\"FLD using knn (k=5), accuracy: \", fld.accuracy_score(y_test, y_pred_k5))"
      ]
    },
    {
      "cell_type": "code",
      "execution_count": null,
      "metadata": {
        "id": "uAaGRQkg2o1e",
        "outputId": "df955966-9a89-42a7-c528-8ec72b5e097d"
      },
      "outputs": [
        {
          "data": {
            "image/png": "[encoded data removed]",
            "text/plain": [
              "<Figure size 640x480 with 1 Axes>"
            ]
          },
          "metadata": {},
          "output_type": "display_data"
        }
      ],
      "source": [
        "# For Q12, using only training data\n",
        "fld.plot_projection(X_train, y_train)"
      ]
    },
    {
      "cell_type": "markdown",
      "metadata": {
        "id": "PDeFV2_uAoL_"
      },
      "source": [
        "# Train your own model on provided dataset.\n",
        "You can only using 1) **Fisher's Linear Discriminant** or 2) **Logistic Regression** that you have implemented above."
      ]
    },
    {
      "cell_type": "code",
      "execution_count": null,
      "metadata": {
        "id": "0GkkThFyBTN3"
      },
      "outputs": [],
      "source": [
        "df_train = pd.DataFrame(pd.read_csv(\"./PR_HW2_train.csv\"))\n",
        "df_val   = pd.DataFrame(pd.read_csv(\"./PR_HW2_val.csv\"))\n",
        "df_test  = pd.DataFrame(pd.read_csv(\"./PR_HW2_test.csv\"))"
      ]
    },
    {
      "cell_type": "code",
      "execution_count": null,
      "metadata": {
        "id": "6Si9iL-0BWQS",
        "outputId": "21cbdcf9-5eaf-41da-e70b-4a2ec11cdf6b"
      },
      "outputs": [
        {
          "data": {
            "text/html": [
              "<div>\n",
              "<style scoped>\n",
              "    .dataframe tbody tr th:only-of-type {\n",
              "        vertical-align: middle;\n",
              "    }\n",
              "\n",
              "    .dataframe tbody tr th {\n",
              "        vertical-align: top;\n",
              "    }\n",
              "\n",
              "    .dataframe thead th {\n",
              "        text-align: right;\n",
              "    }\n",
              "</style>\n",
              "<table border=\"1\" class=\"dataframe\">\n",
              "  <thead>\n",
              "    <tr style=\"text-align: right;\">\n",
              "      <th></th>\n",
              "      <th>Feature1</th>\n",
              "      <th>Feature2</th>\n",
              "      <th>Feature3</th>\n",
              "      <th>Feature4</th>\n",
              "      <th>Target</th>\n",
              "    </tr>\n",
              "  </thead>\n",
              "  <tbody>\n",
              "    <tr>\n",
              "      <th>0</th>\n",
              "      <td>0.00668</td>\n",
              "      <td>0.00192</td>\n",
              "      <td>0.682</td>\n",
              "      <td>0.996</td>\n",
              "      <td>2.0</td>\n",
              "    </tr>\n",
              "    <tr>\n",
              "      <th>1</th>\n",
              "      <td>0.00680</td>\n",
              "      <td>0.00106</td>\n",
              "      <td>0.503</td>\n",
              "      <td>0.996</td>\n",
              "      <td>1.0</td>\n",
              "    </tr>\n",
              "    <tr>\n",
              "      <th>2</th>\n",
              "      <td>0.00742</td>\n",
              "      <td>0.00106</td>\n",
              "      <td>0.482</td>\n",
              "      <td>0.991</td>\n",
              "      <td>1.0</td>\n",
              "    </tr>\n",
              "    <tr>\n",
              "      <th>3</th>\n",
              "      <td>0.00685</td>\n",
              "      <td>0.00178</td>\n",
              "      <td>0.650</td>\n",
              "      <td>0.998</td>\n",
              "      <td>2.0</td>\n",
              "    </tr>\n",
              "    <tr>\n",
              "      <th>4</th>\n",
              "      <td>0.00680</td>\n",
              "      <td>0.00163</td>\n",
              "      <td>0.623</td>\n",
              "      <td>0.996</td>\n",
              "      <td>2.0</td>\n",
              "    </tr>\n",
              "  </tbody>\n",
              "</table>\n",
              "</div>"
            ],
            "text/plain": [
              "   Feature1  Feature2  Feature3  Feature4  Target\n",
              "0   0.00668   0.00192     0.682     0.996     2.0\n",
              "1   0.00680   0.00106     0.503     0.996     1.0\n",
              "2   0.00742   0.00106     0.482     0.991     1.0\n",
              "3   0.00685   0.00178     0.650     0.998     2.0\n",
              "4   0.00680   0.00163     0.623     0.996     2.0"
            ]
          },
          "execution_count": 91,
          "metadata": {},
          "output_type": "execute_result"
        }
      ],
      "source": [
        "df_train.head()"
      ]
    },
    {
      "cell_type": "code",
      "execution_count": null,
      "metadata": {
        "id": "qw1B1bIkBdN4",
        "outputId": "5309269b-af5f-466a-b74c-b41e2009f6bd"
      },
      "outputs": [
        {
          "data": {
            "text/html": [
              "<div>\n",
              "<style scoped>\n",
              "    .dataframe tbody tr th:only-of-type {\n",
              "        vertical-align: middle;\n",
              "    }\n",
              "\n",
              "    .dataframe tbody tr th {\n",
              "        vertical-align: top;\n",
              "    }\n",
              "\n",
              "    .dataframe thead th {\n",
              "        text-align: right;\n",
              "    }\n",
              "</style>\n",
              "<table border=\"1\" class=\"dataframe\">\n",
              "  <thead>\n",
              "    <tr style=\"text-align: right;\">\n",
              "      <th></th>\n",
              "      <th>Feature1</th>\n",
              "      <th>Feature2</th>\n",
              "      <th>Feature3</th>\n",
              "      <th>Feature4</th>\n",
              "      <th>Target</th>\n",
              "    </tr>\n",
              "  </thead>\n",
              "  <tbody>\n",
              "    <tr>\n",
              "      <th>0</th>\n",
              "      <td>0.00699</td>\n",
              "      <td>0.000877</td>\n",
              "      <td>0.451</td>\n",
              "      <td>0.994</td>\n",
              "      <td>NaN</td>\n",
              "    </tr>\n",
              "    <tr>\n",
              "      <th>1</th>\n",
              "      <td>0.00736</td>\n",
              "      <td>0.001370</td>\n",
              "      <td>0.549</td>\n",
              "      <td>0.998</td>\n",
              "      <td>NaN</td>\n",
              "    </tr>\n",
              "    <tr>\n",
              "      <th>2</th>\n",
              "      <td>0.00687</td>\n",
              "      <td>0.001420</td>\n",
              "      <td>0.580</td>\n",
              "      <td>0.992</td>\n",
              "      <td>NaN</td>\n",
              "    </tr>\n",
              "    <tr>\n",
              "      <th>3</th>\n",
              "      <td>0.00752</td>\n",
              "      <td>0.002520</td>\n",
              "      <td>0.737</td>\n",
              "      <td>0.996</td>\n",
              "      <td>NaN</td>\n",
              "    </tr>\n",
              "    <tr>\n",
              "      <th>4</th>\n",
              "      <td>0.00685</td>\n",
              "      <td>0.000910</td>\n",
              "      <td>0.464</td>\n",
              "      <td>0.992</td>\n",
              "      <td>NaN</td>\n",
              "    </tr>\n",
              "  </tbody>\n",
              "</table>\n",
              "</div>"
            ],
            "text/plain": [
              "   Feature1  Feature2  Feature3  Feature4  Target\n",
              "0   0.00699  0.000877     0.451     0.994     NaN\n",
              "1   0.00736  0.001370     0.549     0.998     NaN\n",
              "2   0.00687  0.001420     0.580     0.992     NaN\n",
              "3   0.00752  0.002520     0.737     0.996     NaN\n",
              "4   0.00685  0.000910     0.464     0.992     NaN"
            ]
          },
          "execution_count": 92,
          "metadata": {},
          "output_type": "execute_result"
        }
      ],
      "source": [
        "df_test.head()"
      ]
    },
    {
      "cell_type": "code",
      "execution_count": null,
      "metadata": {
        "id": "5QRolwnfGBAS",
        "outputId": "5d951265-30ad-4ffe-eee6-aa145894c19d"
      },
      "outputs": [
        {
          "data": {
            "text/html": [
              "<div>\n",
              "<style scoped>\n",
              "    .dataframe tbody tr th:only-of-type {\n",
              "        vertical-align: middle;\n",
              "    }\n",
              "\n",
              "    .dataframe tbody tr th {\n",
              "        vertical-align: top;\n",
              "    }\n",
              "\n",
              "    .dataframe thead th {\n",
              "        text-align: right;\n",
              "    }\n",
              "</style>\n",
              "<table border=\"1\" class=\"dataframe\">\n",
              "  <thead>\n",
              "    <tr style=\"text-align: right;\">\n",
              "      <th></th>\n",
              "      <th>Feature1</th>\n",
              "      <th>Feature2</th>\n",
              "      <th>Feature3</th>\n",
              "      <th>Feature4</th>\n",
              "      <th>Target</th>\n",
              "    </tr>\n",
              "  </thead>\n",
              "  <tbody>\n",
              "    <tr>\n",
              "      <th>Feature1</th>\n",
              "      <td>1.000000</td>\n",
              "      <td>0.532584</td>\n",
              "      <td>0.224169</td>\n",
              "      <td>0.214851</td>\n",
              "      <td>-0.657016</td>\n",
              "    </tr>\n",
              "    <tr>\n",
              "      <th>Feature2</th>\n",
              "      <td>0.532584</td>\n",
              "      <td>1.000000</td>\n",
              "      <td>0.938422</td>\n",
              "      <td>0.431155</td>\n",
              "      <td>-0.477465</td>\n",
              "    </tr>\n",
              "    <tr>\n",
              "      <th>Feature3</th>\n",
              "      <td>0.224169</td>\n",
              "      <td>0.938422</td>\n",
              "      <td>1.000000</td>\n",
              "      <td>0.421574</td>\n",
              "      <td>-0.265032</td>\n",
              "    </tr>\n",
              "    <tr>\n",
              "      <th>Feature4</th>\n",
              "      <td>0.214851</td>\n",
              "      <td>0.431155</td>\n",
              "      <td>0.421574</td>\n",
              "      <td>1.000000</td>\n",
              "      <td>-0.215316</td>\n",
              "    </tr>\n",
              "    <tr>\n",
              "      <th>Target</th>\n",
              "      <td>-0.657016</td>\n",
              "      <td>-0.477465</td>\n",
              "      <td>-0.265032</td>\n",
              "      <td>-0.215316</td>\n",
              "      <td>1.000000</td>\n",
              "    </tr>\n",
              "  </tbody>\n",
              "</table>\n",
              "</div>"
            ],
            "text/plain": [
              "          Feature1  Feature2  Feature3  Feature4    Target\n",
              "Feature1  1.000000  0.532584  0.224169  0.214851 -0.657016\n",
              "Feature2  0.532584  1.000000  0.938422  0.431155 -0.477465\n",
              "Feature3  0.224169  0.938422  1.000000  0.421574 -0.265032\n",
              "Feature4  0.214851  0.431155  0.421574  1.000000 -0.215316\n",
              "Target   -0.657016 -0.477465 -0.265032 -0.215316  1.000000"
            ]
          },
          "execution_count": 93,
          "metadata": {},
          "output_type": "execute_result"
        }
      ],
      "source": [
        "df_train.corr()"
      ]
    },
    {
      "cell_type": "code",
      "execution_count": null,
      "metadata": {
        "id": "XakVvj99GBAS"
      },
      "outputs": [],
      "source": [
        "def varible_extend( df, expend = ['Feature1','Feature2','Feature3','Feature4'] ) :\n",
        "    X = df.drop('Target', axis=1)\n",
        "\n",
        "    for i in range(len(expend)) :\n",
        "        for j in range(i,len(expend)) :\n",
        "            name = f'{expend[i]}*{expend[j]}'\n",
        "            X[name] = X[expend[i]]*X[expend[j]]\n",
        "\n",
        "    return X"
      ]
    },
    {
      "cell_type": "code",
      "execution_count": null,
      "metadata": {
        "id": "tDeQjZsuDagp",
        "outputId": "3ed989d3-1588-4eab-ab35-98456dc61983"
      },
      "outputs": [
        {
          "name": "stdout",
          "output_type": "stream",
          "text": [
            "X_train (1703, 14)\n",
            "y_train (1703,)\n",
            "X_val (730, 14)\n",
            "y_val (730,)\n"
          ]
        }
      ],
      "source": [
        "# Data processing\n",
        "X_train = varible_extend(df_train).to_numpy()\n",
        "y_train = df_train[['Target']].to_numpy().ravel().astype(int)\n",
        "\n",
        "X_val = varible_extend(df_val).to_numpy()\n",
        "y_val = df_val[['Target']].to_numpy().ravel().astype(int)\n",
        "\n",
        "X_test = varible_extend(df_test).to_numpy()\n",
        "print(\"X_train\", X_train.shape)\n",
        "print(\"y_train\", y_train.shape)\n",
        "print(\"X_val\",  X_val.shape)\n",
        "print(\"y_val\",  y_val.shape)\n",
        "# Refer to section \"Prepare data for Q1 ~ Q12\""
      ]
    },
    {
      "cell_type": "code",
      "execution_count": null,
      "metadata": {
        "id": "p9vEErR9Bf_a",
        "outputId": "990db763-eb70-4284-ad0a-bf31b0dc5b34"
      },
      "outputs": [
        {
          "name": "stdout",
          "output_type": "stream",
          "text": [
            "[[ 1.96625076e+03 -1.06934070e+03 -8.93910060e+02]\n",
            " [ 3.97061910e+02 -3.00331924e+02 -9.37299863e+01]\n",
            " [ 9.04116362e+02  2.64894164e+02 -1.16601053e+03]\n",
            " [-1.48100138e+02  1.94311951e+01  1.31668943e+02]\n",
            " [ 2.82630193e+01 -5.96754091e+00 -1.92954784e+01]\n",
            " [ 6.55414680e+00 -1.61204715e+00 -1.94209966e+00]\n",
            " [ 1.15005826e+03 -7.41381860e+02 -4.05676398e+02]\n",
            " [ 1.95837818e+03 -1.04495364e+03 -9.10424536e+02]\n",
            " [ 1.83456114e+00  2.31455606e-01  9.33983250e-01]\n",
            " [ 2.02899740e+02 -1.97593023e+02 -2.30671724e+00]\n",
            " [ 3.84932056e+02 -2.98237044e+02 -8.36950122e+01]\n",
            " [-1.46742838e+02  2.49688503e+02 -9.99456645e+01]\n",
            " [-6.78772422e+02 -6.24365695e+02  1.30613812e+03]\n",
            " [ 4.43513478e+02  4.69933544e+01 -4.87506833e+02]\n",
            " [-4.05835474e+02  7.92507603e+01  3.29584714e+02]]\n"
          ]
        }
      ],
      "source": [
        "lr = 0.9\n",
        "batch_size = 8\n",
        "epoch = 10000000\n",
        "\n",
        "logistic_reg = MultiClassLogisticRegression()\n",
        "logistic_reg.fit(X_train, y_train, lr=lr, batch_size=batch_size, epochs=epoch, loss_count= 1000000)\n",
        "# your_model = ...\n"
      ]
    },
    {
      "cell_type": "code",
      "execution_count": null,
      "metadata": {
        "id": "W3rvJx0EGBAT",
        "outputId": "db6c3e2a-9ffb-4220-cbd3-4c9f41ebcba9"
      },
      "outputs": [
        {
          "name": "stdout",
          "output_type": "stream",
          "text": [
            "ans : 0.915068493150685\n",
            "accuracy:  0.915068493150685\n"
          ]
        }
      ],
      "source": [
        "y_pred = logistic_reg.predict( X_val)\n",
        "print(\"accuracy: \", logistic_reg.accuracy_score(y_val, y_pred))"
      ]
    },
    {
      "cell_type": "code",
      "execution_count": null,
      "metadata": {
        "id": "iAVl6rAcGBAT",
        "outputId": "9de1f5f1-5fa3-4f99-e106-58144b7842f2"
      },
      "outputs": [
        {
          "name": "stdout",
          "output_type": "stream",
          "text": [
            "ans : 0.916030534351145\n",
            "accuracy:  0.916030534351145\n"
          ]
        }
      ],
      "source": [
        "y_pred = logistic_reg.predict( X_train)\n",
        "print(\"accuracy: \", logistic_reg.accuracy_score(y_train, y_pred))"
      ]
    },
    {
      "cell_type": "code",
      "execution_count": null,
      "metadata": {
        "id": "HU51vEqhGBAT",
        "outputId": "3919aaa7-870a-4b90-a2f8-22f0b86b909d"
      },
      "outputs": [
        {
          "data": {
            "image/png": "[encoded data removed]",
            "text/plain": [
              "<Figure size 640x480 with 1 Axes>"
            ]
          },
          "metadata": {},
          "output_type": "display_data"
        }
      ],
      "source": [
        "logistic_reg.plot_curve()"
      ]
    },
    {
      "cell_type": "code",
      "execution_count": null,
      "metadata": {
        "id": "68NrvUPsBsy8",
        "outputId": "411bfd05-d1d0-45dd-a8eb-5da48fe6d612"
      },
      "outputs": [
        {
          "name": "stdout",
          "output_type": "stream",
          "text": [
            "test_pred shape:  (5677,)\n"
          ]
        }
      ],
      "source": [
        "test_pred = logistic_reg.predict(X_test)\n",
        "print(\"test_pred shape: \", test_pred.shape)"
      ]
    },
    {
      "cell_type": "markdown",
      "metadata": {
        "id": "LBTMFtdlB55p"
      },
      "source": [
        "# Output the csv file"
      ]
    },
    {
      "cell_type": "code",
      "execution_count": null,
      "metadata": {
        "id": "C2OL-EI2B3ja"
      },
      "outputs": [],
      "source": [
        "# For Q13\n",
        "df_test = pd.DataFrame(pd.read_csv(\"./PR_HW2_test.csv\"))\n",
        "df_test[\"Target\"] = test_pred\n",
        "df_test.to_csv(\"311553032_1_output.csv\")"
      ]
    }
  ],
  "metadata": {
    "colab": {
      "provenance": []
    },
    "kernelspec": {
      "display_name": "Python 3",
      "name": "python3"
    },
    "language_info": {
      "codemirror_mode": {
        "name": "ipython",
        "version": 3
      },
      "file_extension": ".py",
      "mimetype": "text/x-python",
      "name": "python",
      "nbconvert_exporter": "python",
      "pygments_lexer": "ipython3",
      "version": "3.9.13"
    }
  },
  "nbformat": 4,
  "nbformat_minor": 0
}
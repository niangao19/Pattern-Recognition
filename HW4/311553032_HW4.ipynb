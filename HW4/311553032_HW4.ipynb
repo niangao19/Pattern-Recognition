{
  "cells": [
    {
      "cell_type": "code",
      "execution_count": 33,
      "metadata": {
        "id": "Z0yGksgOp91i"
      },
      "outputs": [],
      "source": [
        "import numpy as np\n",
        "import pandas as pd\n",
        "import matplotlib.pyplot as plt\n",
        "from sklearn.svm import SVC, SVR\n",
        "from sklearn.metrics import accuracy_score"
      ]
    },
    {
      "cell_type": "code",
      "execution_count": 34,
      "metadata": {
        "id": "7ZYQFbA0qMZ-"
      },
      "outputs": [],
      "source": [
        "# Load data\n",
        "x_train = np.load(\"x_train.npy\")\n",
        "y_train = np.load(\"y_train.npy\")\n",
        "x_test = np.load(\"x_test.npy\")\n",
        "y_test = np.load(\"y_test.npy\")"
      ]
    },
    {
      "cell_type": "code",
      "execution_count": 35,
      "metadata": {
        "id": "u0ewnfh6qOoM"
      },
      "outputs": [
        {
          "name": "stdout",
          "output_type": "stream",
          "text": [
            "(7000, 300)\n",
            "(7000,)\n",
            "(3000, 300)\n"
          ]
        }
      ],
      "source": [
        "# 7000 data with 300 features\n",
        "print(x_train.shape)\n",
        "print(y_train.shape)\n",
        "print(x_test.shape)"
      ]
    },
    {
      "cell_type": "code",
      "execution_count": 36,
      "metadata": {
        "id": "ryZdU0fdqTkb"
      },
      "outputs": [
        {
          "name": "stdout",
          "output_type": "stream",
          "text": [
            "[0 1]\n"
          ]
        }
      ],
      "source": [
        "# It's a binary classification problem \n",
        "print(np.unique(y_train))"
      ]
    },
    {
      "cell_type": "markdown",
      "metadata": {
        "id": "qy1aMJ7sqwwg"
      },
      "source": [
        "# Q1"
      ]
    },
    {
      "cell_type": "code",
      "execution_count": 37,
      "metadata": {
        "id": "TI26_jRbqVX3"
      },
      "outputs": [],
      "source": [
        "def cross_validation(x_train, y_train, k=5):\n",
        "    \n",
        "    # Do not modify the function name and always take 'x_train, y_train, k' as the inputs.\n",
        "    indices = np.arange(len(x_train))\n",
        "    \n",
        "    # use random seed to mak each samele at anytime is different.\n",
        "    np.random.seed()\n",
        "    np.random.shuffle(indices)\n",
        "    folds = np.array_split(indices, k)\n",
        "    folds = np.array(folds)\n",
        "\n",
        "    k_fold = []\n",
        "    for i in range(k):\n",
        "        train_fold = np.delete(np.arange(k), i)\n",
        "        k_fold.append([np.concatenate((folds[train_fold]), axis=None), folds[i]])\n",
        "    return k_fold"
      ]
    },
    {
      "cell_type": "code",
      "execution_count": 38,
      "metadata": {
        "id": "7jTma6saqf3E"
      },
      "outputs": [],
      "source": [
        "kfold_data = cross_validation(x_train, y_train, k=10)\n",
        "assert len(kfold_data) == 10 # should contain 10 fold of data\n",
        "assert len(kfold_data[0]) == 2 # each element should contain train fold and validation fold\n",
        "assert kfold_data[0][1].shape[0] == 700 # The number of data in each validation fold should equal to training data divieded by K"
      ]
    },
    {
      "cell_type": "markdown",
      "metadata": {
        "id": "IccJcpN_q0Z0"
      },
      "source": [
        "# K-Fold Example"
      ]
    },
    {
      "cell_type": "code",
      "execution_count": 39,
      "metadata": {
        "id": "O_zT2TAzqjay"
      },
      "outputs": [
        {
          "name": "stdout",
          "output_type": "stream",
          "text": [
            "Split: 1, Training index: [ 0  1  2  3  5  7  9 10 11 12 13 14 15 16 17 19], Validation index: [ 4  6  8 18]\n",
            "Split: 2, Training index: [ 0  1  2  3  4  6  7  8 10 11 13 15 16 17 18 19], Validation index: [ 5  9 12 14]\n",
            "Split: 3, Training index: [ 1  3  4  5  6  7  8  9 11 12 13 14 15 17 18 19], Validation index: [ 0  2 10 16]\n",
            "Split: 4, Training index: [ 0  2  3  4  5  6  7  8  9 10 12 14 15 16 17 18], Validation index: [ 1 11 13 19]\n",
            "Split: 5, Training index: [ 0  1  2  4  5  6  8  9 10 11 12 13 14 16 18 19], Validation index: [ 3  7 15 17]\n"
          ]
        }
      ],
      "source": [
        "from sklearn.model_selection import KFold\n",
        "\n",
        "X = np.arange(20)\n",
        "\n",
        "kf = KFold(n_splits=5, shuffle=True)\n",
        "kfold_data= []\n",
        "for i, (train_index, val_index) in enumerate(kf.split(X)):\n",
        "    print(\"Split: %s, Training index: %s, Validation index: %s\" % (i+1, train_index, val_index))\n",
        "    kfold_data.append([train_index, val_index])"
      ]
    },
    {
      "cell_type": "code",
      "execution_count": 40,
      "metadata": {
        "id": "lYCTmie5qnow"
      },
      "outputs": [],
      "source": [
        "assert len(kfold_data) == 5 # should contain 5 fold of data\n",
        "assert len(kfold_data[0]) == 2 # each element should contains index of training fold and validation fold\n",
        "assert kfold_data[0][1].shape[0] == 4 # The number of data in each validation fold should equal to training data divieded by K"
      ]
    },
    {
      "cell_type": "markdown",
      "metadata": {
        "id": "Gh-DQiNiq5v0"
      },
      "source": [
        "## Q2"
      ]
    },
    {
      "cell_type": "code",
      "execution_count": 41,
      "metadata": {
        "id": "31V1fW7Qq6la"
      },
      "outputs": [],
      "source": [
        "# (Example) Using SVC from sklearn\n",
        "\n",
        "clf = SVC(C=1.0, gamma=0.01, kernel='rbf')"
      ]
    },
    {
      "cell_type": "code",
      "execution_count": 42,
      "metadata": {
        "id": "VzBT0t6Yq_Dj"
      },
      "outputs": [],
      "source": [
        "best_c, best_gamma = None, None\n",
        "\n",
        "# TODO HERE\n",
        "kfold_data = cross_validation(x_train, y_train, k=5)\n",
        "C = [20, 50, 100 ,200 ]\n",
        "gamma = [0.0001, 0.0005, 0.001 , 0.003]\n",
        "# k-Flod Cross Validation and Grid Search\n",
        "average_scores = np.zeros((len(C), len(gamma)))\n",
        "best_score = 0\n",
        "best_model = None\n",
        "best_c = 0\n",
        "best_gamma = 0\n",
        "for i in range(len(C)):\n",
        "    for j in range(len(gamma)):\n",
        "        score = 0\n",
        "\n",
        "        # use cross validation data to train and evaluate the model performance\n",
        "        for traing_idx, validation_idx in kfold_data:\n",
        "            clf = SVC(C=C[i], kernel='rbf', gamma=gamma[j])\n",
        "            clf.fit(x_train[traing_idx], y_train[traing_idx])\n",
        "            score += clf.score(x_train[validation_idx], y_train[validation_idx])\n",
        "\n",
        "        average_scores[i][j] = score / len(kfold_data)\n",
        "        \n",
        "        # record the best model\n",
        "        if average_scores[i][j] > best_score:\n",
        "            best_score = average_scores[i][j]\n",
        "            best_model = clf\n",
        "            best_c = C[i]\n",
        "            best_gamma = gamma[j]\n",
        "\n",
        "best_parameters=(best_c, best_gamma)"
      ]
    },
    {
      "cell_type": "code",
      "execution_count": 43,
      "metadata": {
        "id": "mGTyHMFgrAXd"
      },
      "outputs": [
        {
          "name": "stdout",
          "output_type": "stream",
          "text": [
            "(best_c, best_gamma) is  (20, 0.0001)\n"
          ]
        }
      ],
      "source": [
        "print(\"(best_c, best_gamma) is \", best_parameters)"
      ]
    },
    {
      "cell_type": "markdown",
      "metadata": {
        "id": "KbPoOy0lrDPJ"
      },
      "source": [
        "# Q3"
      ]
    },
    {
      "cell_type": "code",
      "execution_count": 44,
      "metadata": {
        "id": "ibuxQOEQrEgJ"
      },
      "outputs": [
        {
          "data": {
            "image/png": "[encoded data removed]",
            "text/plain": [
              "<Figure size 800x600 with 2 Axes>"
            ]
          },
          "metadata": {},
          "output_type": "display_data"
        }
      ],
      "source": [
        "# Plot the grid search results of your SVM\n",
        "len_C = len(C)\n",
        "len_gamma = len(gamma)\n",
        "\n",
        "plt.figure(figsize=(8, 6))\n",
        "plt.imshow(average_scores, cmap='cool', interpolation='nearest')\n",
        "plt.xticks(np.arange(len_gamma), gamma)\n",
        "plt.yticks(np.arange(len_C), C)\n",
        "plt.xlabel(\"Gamma Parameter\")\n",
        "plt.ylabel(\"C Parameter\")\n",
        "plt.title(\"Hyperparamter Gridsearch\")\n",
        "plt.colorbar()\n",
        "\n",
        "# add validation score to the heatmap\n",
        "for i in range(len_C):\n",
        "    for j in range(len_gamma):\n",
        "        plt.text(j, i, f'{average_scores[i][j]:.3f}', ha='center', va='center', color='b')\n",
        "\n",
        "plt.show()"
      ]
    },
    {
      "cell_type": "markdown",
      "metadata": {
        "id": "QVA-It-4rM9Q"
      },
      "source": [
        "## Q4"
      ]
    },
    {
      "cell_type": "code",
      "execution_count": 45,
      "metadata": {
        "id": "Zl963HdLrMKg"
      },
      "outputs": [
        {
          "name": "stdout",
          "output_type": "stream",
          "text": [
            "Accuracy score:  0.995\n"
          ]
        }
      ],
      "source": [
        "# Do Not Modify Below\n",
        "\n",
        "best_model = SVC(C=best_parameters[0], gamma=best_parameters[1], kernel='rbf')\n",
        "best_model.fit(x_train, y_train)\n",
        "\n",
        "y_pred = best_model.predict(x_test)\n",
        "\n",
        "print(\"Accuracy score: \", accuracy_score(y_pred, y_test))\n",
        "\n",
        "# If your accuracy here > 0.9 then you will get full credit (20 points)."
      ]
    }
  ],
  "metadata": {
    "colab": {
      "provenance": []
    },
    "kernelspec": {
      "display_name": "Python 3",
      "name": "python3"
    },
    "language_info": {
      "codemirror_mode": {
        "name": "ipython",
        "version": 3
      },
      "file_extension": ".py",
      "mimetype": "text/x-python",
      "name": "python",
      "nbconvert_exporter": "python",
      "pygments_lexer": "ipython3",
      "version": "3.10.11"
    }
  },
  "nbformat": 4,
  "nbformat_minor": 0
}
